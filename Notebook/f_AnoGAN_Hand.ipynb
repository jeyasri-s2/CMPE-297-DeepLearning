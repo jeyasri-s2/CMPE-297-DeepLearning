{
  "nbformat": 4,
  "nbformat_minor": 0,
  "metadata": {
    "accelerator": "GPU",
    "colab": {
      "name": "f-AnoGAN-Jeyasri.ipynb",
      "provenance": [],
      "collapsed_sections": [],
      "toc_visible": true,
      "machine_shape": "hm",
      "include_colab_link": true
    },
    "kernelspec": {
      "display_name": "Python 3",
      "language": "python",
      "name": "python3"
    },
    "language_info": {
      "codemirror_mode": {
        "name": "ipython",
        "version": 3
      },
      "file_extension": ".py",
      "mimetype": "text/x-python",
      "name": "python",
      "nbconvert_exporter": "python",
      "pygments_lexer": "ipython3",
      "version": "3.7.6"
    }
  },
  "cells": [
    {
      "cell_type": "markdown",
      "metadata": {
        "id": "view-in-github",
        "colab_type": "text"
      },
      "source": [
        "<a href=\"https://colab.research.google.com/github/plodha/CMPE-297-DeepLearning/blob/main/Notebook/f_AnoGAN_Hand.ipynb\" target=\"_parent\"><img src=\"https://colab.research.google.com/assets/colab-badge.svg\" alt=\"Open In Colab\"/></a>"
      ]
    },
    {
      "cell_type": "code",
      "metadata": {
        "id": "gUsfA5dO0M4_",
        "colab": {
          "base_uri": "https://localhost:8080/"
        },
        "outputId": "d863673b-466b-4fac-f2db-10e2997fbb7b"
      },
      "source": [
        "from google.colab import drive\n",
        "drive.mount('/content/drive')"
      ],
      "execution_count": 1,
      "outputs": [
        {
          "output_type": "stream",
          "text": [
            "Mounted at /content/drive\n"
          ],
          "name": "stdout"
        }
      ]
    },
    {
      "cell_type": "code",
      "metadata": {
        "id": "_L2CmL3E0X_o"
      },
      "source": [
        "#!pip install torch==1.4.0 torchvision==0.5.0 tqdm opencv-python Pillow==8.0.1 tensorboardX==1.4"
      ],
      "execution_count": 2,
      "outputs": []
    },
    {
      "cell_type": "code",
      "metadata": {
        "id": "Y90evQ2k0m4e",
        "colab": {
          "base_uri": "https://localhost:8080/"
        },
        "outputId": "a37ecb0e-4163-4fdc-bcc1-b5fc44e81c9a"
      },
      "source": [
        "!nvidia-smi"
      ],
      "execution_count": 3,
      "outputs": [
        {
          "output_type": "stream",
          "text": [
            "Sat Dec  5 22:36:45 2020       \n",
            "+-----------------------------------------------------------------------------+\n",
            "| NVIDIA-SMI 455.45.01    Driver Version: 418.67       CUDA Version: 10.1     |\n",
            "|-------------------------------+----------------------+----------------------+\n",
            "| GPU  Name        Persistence-M| Bus-Id        Disp.A | Volatile Uncorr. ECC |\n",
            "| Fan  Temp  Perf  Pwr:Usage/Cap|         Memory-Usage | GPU-Util  Compute M. |\n",
            "|                               |                      |               MIG M. |\n",
            "|===============================+======================+======================|\n",
            "|   0  Tesla V100-SXM2...  Off  | 00000000:00:04.0 Off |                    0 |\n",
            "| N/A   33C    P0    24W / 300W |      0MiB / 16130MiB |      0%      Default |\n",
            "|                               |                      |                 ERR! |\n",
            "+-------------------------------+----------------------+----------------------+\n",
            "                                                                               \n",
            "+-----------------------------------------------------------------------------+\n",
            "| Processes:                                                                  |\n",
            "|  GPU   GI   CI        PID   Type   Process name                  GPU Memory |\n",
            "|        ID   ID                                                   Usage      |\n",
            "|=============================================================================|\n",
            "|  No running processes found                                                 |\n",
            "+-----------------------------------------------------------------------------+\n"
          ],
          "name": "stdout"
        }
      ]
    },
    {
      "cell_type": "code",
      "metadata": {
        "id": "AN-YOz44a2sG",
        "colab": {
          "base_uri": "https://localhost:8080/"
        },
        "outputId": "47f819c5-5bfc-4bdc-bb9f-6e317d265546"
      },
      "source": [
        "!ls"
      ],
      "execution_count": 4,
      "outputs": [
        {
          "output_type": "stream",
          "text": [
            "drive  sample_data\n"
          ],
          "name": "stdout"
        }
      ]
    },
    {
      "cell_type": "code",
      "metadata": {
        "id": "xmm8fWGu0uQF"
      },
      "source": [
        "import argparse\n",
        "import os\n",
        "import numpy as np\n",
        "import math\n",
        "import sys\n",
        "import random\n",
        "#import torchvision.transforms as transforms\n",
        "from torchvision.utils import save_image\n",
        "#from dataloader.dataloader import load_data\n",
        "#from torch.utils.data import DataLoader\n",
        "from torchvision import datasets\n",
        "from torch.autograd import Variable\n",
        "#from networks import Generator, Discriminator\n",
        "import torch.nn as nn\n",
        "import torch.nn.functional as F\n",
        "import torch.autograd as autograd\n",
        "from sklearn.metrics import roc_curve, auc\n",
        "import matplotlib.pyplot as plt\n",
        "\n",
        "import torch\n",
        "import cv2\n",
        "ngpu = 1\n",
        "os.makedirs(\"images\", exist_ok=True)"
      ],
      "execution_count": 5,
      "outputs": []
    },
    {
      "cell_type": "markdown",
      "metadata": {
        "id": "zHlOa4iRYOYm"
      },
      "source": [
        "## Data Loader"
      ]
    },
    {
      "cell_type": "code",
      "metadata": {
        "id": "-65F_sqIVL3X"
      },
      "source": [
        "from torch.utils.data import DataLoader, Dataset\n",
        "class MURA_dataset(Dataset):\n",
        "    '''\n",
        "    Dataset class for MURA dataset\n",
        "    Args:\n",
        "        - df: Dataframe with the first columns contains the path to the images\n",
        "        - root_dir: string contains path of  root directory\n",
        "        - transforms: Pytorch transform operations\n",
        "    '''\n",
        "\n",
        "    def __init__(self, df, root_dir, transforms=None):\n",
        "        #print(\"I am calling Mura dataset\")\n",
        "        self.df = df\n",
        "        self.root_dir = root_dir\n",
        "        self.transforms = transforms\n",
        "\n",
        "    def __len__(self):\n",
        "        return len(self.df)\n",
        "\n",
        "    def __getitem__(self, idx):\n",
        "        img_name = os.path.join(self.root_dir, self.df.iloc[idx, 0])\n",
        "        #print('img_name ',img_name)\n",
        "        img = cv2.imread(img_name)\n",
        "        #print('img shape ',img.shape)\n",
        "\n",
        "        if self.transforms:\n",
        "            img = self.transforms(img)\n",
        "\n",
        "        if 'negative' in img_name: label = 0\n",
        "        else: label = 1\n",
        "\n",
        "        return img, label"
      ],
      "execution_count": 6,
      "outputs": []
    },
    {
      "cell_type": "code",
      "metadata": {
        "id": "8KBrsItuVeoi"
      },
      "source": [
        "def transform(rotation, hflip, resize, totensor, normalize, centercrop, to_pil, gray):\n",
        "    options = []\n",
        "    if to_pil:\n",
        "        options.append(torchvision.transforms.ToPILImage())\n",
        "    if gray:\n",
        "        options.append(torchvision.transforms.Grayscale())\n",
        "    if rotation:\n",
        "        options.append(torchvision.transforms.RandomRotation(20))\n",
        "    if hflip:\n",
        "        options.append(torchvision.transforms.RandomHorizontalFlip())\n",
        "    if centercrop:\n",
        "        options.append(torchvision.transforms.CenterCrop(256))\n",
        "    if resize:\n",
        "        options.append(torchvision.transforms.Resize((32,32)))\n",
        "    if totensor:\n",
        "        options.append(torchvision.transforms.ToTensor())\n",
        "    # if True:\n",
        "    #     options.append(transforms.Lambda(lambda x: (x - x.min())/(x.max()-x.min())))\n",
        "    if normalize:\n",
        "        options.append(torchvision.transforms.Normalize((0.5, 0.5, 0.5), (0.5, 0.5, 0.5)))\n",
        "    transform = torchvision.transforms.Compose(options)\n",
        "    return transform"
      ],
      "execution_count": 7,
      "outputs": []
    },
    {
      "cell_type": "code",
      "metadata": {
        "id": "x3Yghkx9WAww"
      },
      "source": [
        "def customDf(path, studyClass=None, studyType=None):\n",
        "    '''\n",
        "    Function to get custom csv based on class of study and type of study\n",
        "    Args:\n",
        "        - path(string): path to original csv\n",
        "        - studyClass(list): class of study, list must contains one of the following:\n",
        "            \"XR_ELBOW\",\n",
        "            \"XR_FINGER\",\n",
        "            \"XR_FOREARM\",\n",
        "            \"XR_HAND\",\n",
        "            \"XR_HUMERUS\",\n",
        "            \"XR_SHOULDER\",\n",
        "            \"XR_WRIST\"\n",
        "            if None, take all\n",
        "        - studyResult(list): Result of study, list must contains one of the following:\n",
        "            \"positive\", \"negative\"\n",
        "            if None, take all\n",
        "    '''\n",
        "    df = pd.read_csv(path, header=None)\n",
        "\n",
        "    if studyClass:\n",
        "        cond = df[0].str.contains(studyClass)\n",
        "        df = df[cond]\n",
        "    if studyType:\n",
        "        cond = df[0].str.contains(studyType)\n",
        "        df = df[cond]\n",
        "    return df"
      ],
      "execution_count": 8,
      "outputs": []
    },
    {
      "cell_type": "markdown",
      "metadata": {
        "id": "30f3FUe3Ayat"
      },
      "source": [
        "# TODO: Fix pathfor Google drive"
      ]
    },
    {
      "cell_type": "code",
      "metadata": {
        "id": "9mXS5ee2UfZd"
      },
      "source": [
        "import pandas as pd\n",
        "import torchvision\n",
        "#transforms = transform(False, True, True, True, True, True, True, False)\n",
        "transforms = transform(False, True, True, True, True, True, True, False)\n",
        "mura_df = customDf('/content/drive/Shared drives/MeanSquare-Drive/Advanced-DeepLearning/MURA-v1.1/train_image_paths.csv', 'XR_HAND', 'negative')\n",
        "dataset = MURA_dataset(mura_df, '/content/drive/Shared drives/MeanSquare-Drive/Advanced-DeepLearning/', transforms)\n",
        "\n",
        "\n",
        "#mura_df = customDf('../datasets/MURA-v1.1/train_image_paths.csv', 'XR_HUMERUS', None) \n",
        "#dataset = MURA_dataset(mura_df, '../datasets/', transforms)"
      ],
      "execution_count": 9,
      "outputs": []
    },
    {
      "cell_type": "code",
      "metadata": {
        "id": "SjnU8bSya2sH",
        "colab": {
          "base_uri": "https://localhost:8080/"
        },
        "outputId": "0ef1989e-eef8-4b0d-9c92-7b1bef138a4e"
      },
      "source": [
        "len(dataset)"
      ],
      "execution_count": 10,
      "outputs": [
        {
          "output_type": "execute_result",
          "data": {
            "text/plain": [
              "4059"
            ]
          },
          "metadata": {
            "tags": []
          },
          "execution_count": 10
        }
      ]
    },
    {
      "cell_type": "code",
      "metadata": {
        "id": "IVYWNeMNa2sI",
        "colab": {
          "base_uri": "https://localhost:8080/"
        },
        "outputId": "006cebdc-33b6-4cd8-8e2f-a2d0f5814858"
      },
      "source": [
        "!ls ../datasets/MURA-v1.1/"
      ],
      "execution_count": 11,
      "outputs": [
        {
          "output_type": "stream",
          "text": [
            "ls: cannot access '../datasets/MURA-v1.1/': No such file or directory\n"
          ],
          "name": "stdout"
        }
      ]
    },
    {
      "cell_type": "code",
      "metadata": {
        "id": "c4pAtAc4a2sI"
      },
      "source": [
        "#len(valid_dataset)"
      ],
      "execution_count": 12,
      "outputs": []
    },
    {
      "cell_type": "markdown",
      "metadata": {
        "id": "4QjuY2fpa2sI"
      },
      "source": [
        "## Checking size"
      ]
    },
    {
      "cell_type": "markdown",
      "metadata": {
        "id": "K_DBms3ZA4-d"
      },
      "source": [
        "arr = [\"XR_ELBOW\",\"XR_FINGER\",\"XR_FOREARM\",\"XR_HAND\",\"XR_HUMERUS\",\"XR_SHOULDER\",\"XR_WRIST\"]\n",
        "labels = [\"positive\", \"negative\"]\n",
        "for a in arr:\n",
        "    for l in labels:\n",
        "        mura_df = customDf('../datasets/MURA-v1.1/train_image_paths.csv', a, l)\n",
        "        dataset = MURA_dataset(mura_df, '../datasets/', transforms)\n",
        "        print(a,' - ',l,' - ', len(dataset))\n",
        "    print(' -------------- ')\n",
        "\n",
        "for l in labels:\n",
        "    mura_df = customDf('../datasets/MURA-v1.1/train_image_paths.csv', None, l)\n",
        "    dataset = MURA_dataset(mura_df, '../datasets/', transforms)\n",
        "    print('Total ',l,' - ', len(dataset))\n",
        "    "
      ]
    },
    {
      "cell_type": "code",
      "metadata": {
        "id": "MxxDHMlua2sI"
      },
      "source": [
        ""
      ],
      "execution_count": 12,
      "outputs": []
    },
    {
      "cell_type": "code",
      "metadata": {
        "id": "tToIT4j4UP-W"
      },
      "source": [
        "dataloader = torch.utils.data.DataLoader(dataset=dataset,batch_size=64,shuffle=True,num_workers=4,drop_last=False)"
      ],
      "execution_count": 13,
      "outputs": []
    },
    {
      "cell_type": "code",
      "metadata": {
        "colab": {
          "base_uri": "https://localhost:8080/"
        },
        "id": "LiARHopASVnR",
        "outputId": "443a0d79-3e5a-40d3-cbb3-b011d77e35f5"
      },
      "source": [
        "device = torch.device(\"cuda:0\" if (torch.cuda.is_available() and ngpu > 0) else \"cpu\")\n",
        "print(device)"
      ],
      "execution_count": 14,
      "outputs": [
        {
          "output_type": "stream",
          "text": [
            "cuda:0\n"
          ],
          "name": "stdout"
        }
      ]
    },
    {
      "cell_type": "code",
      "metadata": {
        "id": "geInZUpAgnPc"
      },
      "source": [
        "def weights_init(m):\n",
        "    classname = m.__class__.__name__\n",
        "    if classname.find('Conv') != -1:\n",
        "        nn.init.normal_(m.weight.data, 0.0, 0.02)\n",
        "    elif classname.find('BatchNorm') != -1:\n",
        "        nn.init.normal_(m.weight.data, 1.0, 0.02)\n",
        "        nn.init.constant_(m.bias.data, 0)"
      ],
      "execution_count": 15,
      "outputs": []
    },
    {
      "cell_type": "markdown",
      "metadata": {
        "id": "j9itFJutNCJt"
      },
      "source": [
        "## Generator"
      ]
    },
    {
      "cell_type": "code",
      "metadata": {
        "id": "Yw_vNAheM4fA"
      },
      "source": [
        "class Generator(nn.Module):\n",
        "    def __init__(self, dim, zdim, nc):\n",
        "        super(Generator, self).__init__()\n",
        "        self.nc = nc\n",
        "        self.dim = dim\n",
        "        preprocess = nn.Sequential(\n",
        "            nn.Linear(zdim, 4 * 4 * 4 * dim),\n",
        "            nn.BatchNorm1d(4 * 4 * 4 * dim),\n",
        "            nn.ReLU(True),\n",
        "        )\n",
        "\n",
        "        block1 = nn.Sequential(\n",
        "            nn.ConvTranspose2d(4 * dim, 2 * dim, 2, stride=2),\n",
        "            nn.BatchNorm2d(2 * dim),\n",
        "            nn.ReLU(True),\n",
        "        )\n",
        "        block2 = nn.Sequential(\n",
        "            nn.ConvTranspose2d(2 * dim, dim, 2, stride=2),\n",
        "            nn.BatchNorm2d(dim),\n",
        "            nn.ReLU(True),\n",
        "        )\n",
        "        deconv_out = nn.ConvTranspose2d(dim, nc, 2, stride=2)\n",
        "\n",
        "        self.preprocess = preprocess\n",
        "        self.block1 = block1\n",
        "        self.block2 = block2\n",
        "        self.deconv_out = deconv_out\n",
        "        self.tanh = nn.Tanh()\n",
        "\n",
        "    def forward(self, input):\n",
        "        output = self.preprocess(input)\n",
        "        output = output.view(-1, 4 * self.dim, 4, 4)\n",
        "        output = self.block1(output)\n",
        "        output = self.block2(output)\n",
        "        output = self.deconv_out(output)\n",
        "        output = self.tanh(output)\n",
        "        return output.view(-1, self.nc, 32, 32)"
      ],
      "execution_count": 16,
      "outputs": []
    },
    {
      "cell_type": "markdown",
      "metadata": {
        "id": "HmfajFLzND3b"
      },
      "source": [
        "## Discriminator"
      ]
    },
    {
      "cell_type": "code",
      "metadata": {
        "id": "3onDQFHZNBCP"
      },
      "source": [
        "class Discriminator(nn.Module):\n",
        "    def __init__(self, dim, zdim, nc, out_feat=False):\n",
        "        super(Discriminator, self).__init__()\n",
        "        self.nc = nc\n",
        "        self.dim = dim\n",
        "        main = nn.Sequential(\n",
        "            nn.Conv2d(nc, dim, 3, 2, padding=1),\n",
        "            nn.LeakyReLU(),\n",
        "            nn.Conv2d(dim, 2 * dim, 3, 2, padding=1),\n",
        "            nn.LeakyReLU(),\n",
        "            nn.Conv2d(2 * dim, 4 * dim, 3, 2, padding=1),\n",
        "            nn.LeakyReLU(),\n",
        "        )\n",
        "        self.out_feat=out_feat\n",
        "        self.main = main\n",
        "        self.linear = nn.Linear(4*4*4*dim, 1)\n",
        "\n",
        "    def forward(self, input):\n",
        "        output = self.main(input)\n",
        "        output = output.view(-1, 4*4*4*self.dim)\n",
        "        if self.out_feat:\n",
        "            return output\n",
        "        output = self.linear(output)\n",
        "        return output\n",
        "\n",
        "\n",
        "class Encoder(nn.Module):\n",
        "     def __init__(self,dim, zdim, nc):\n",
        "         super(Encoder, self).__init__()\n",
        "         self.dim = dim\n",
        "         main = nn.Sequential(\n",
        "            nn.Conv2d(nc, dim, 3, 2, padding=1),\n",
        "            nn.LeakyReLU(),\n",
        "            nn.Conv2d(dim, 2 * dim, 3, 2, padding=1),\n",
        "            nn.LeakyReLU(),\n",
        "            nn.Conv2d(2 * dim, 4 * dim, 3, 2, padding=1),\n",
        "            nn.LeakyReLU(),\n",
        "            )\n",
        "         self.main = main\n",
        "         self.linear = nn.Linear(4*4*4*dim, zdim)\n",
        "\n",
        "     def forward(self, input):\n",
        "         output = self.main(input)\n",
        "         output = output.view(-1, 4*4*4*self.dim)\n",
        "         output = self.linear(output)\n",
        "         return output"
      ],
      "execution_count": 17,
      "outputs": []
    },
    {
      "cell_type": "markdown",
      "metadata": {
        "id": "Q3gcRNwuPe11"
      },
      "source": [
        "## Program in colab"
      ]
    },
    {
      "cell_type": "code",
      "metadata": {
        "id": "HT7HqqBz0xgV"
      },
      "source": [
        "def train(n_epochs, batch_size, lr, b1, b2, n_cpu, latent_dim, img_size, channels, sample_interval, abnormal_class, device, out):\n",
        "  os.makedirs(out, exist_ok=True)\n",
        "  img_shape = (channels, img_size, img_size)\n",
        "\n",
        "\n",
        "  # Loss weight for gradient penalty\n",
        "  lambda_gp = 10\n",
        "\n",
        "  # Initialize generator and discriminator\n",
        "  generator = Generator(dim = 64, zdim=latent_dim, nc=channels)\n",
        "  discriminator = Discriminator(dim = 64, zdim=latent_dim, nc=channels)\n",
        "\n",
        "  generator.to(device)\n",
        "  discriminator.to(device)\n",
        "\n",
        "  # Configure data loader\n",
        "  dataloader = torch.utils.data.DataLoader(dataset=dataset,batch_size=batch_size,shuffle=True,num_workers=4,\n",
        "                                           drop_last=False)\n",
        "\n",
        "  # Optimizers\n",
        "  optimizer_G = torch.optim.Adam(generator.parameters(), lr=lr, betas=(b1, b2))\n",
        "  optimizer_D = torch.optim.Adam(discriminator.parameters(), lr=lr, betas=(b1, b2))\n",
        "\n",
        "  Tensor = torch.cuda.FloatTensor if device == 'cuda' else torch.FloatTensor\n",
        "\n",
        "  def compute_gradient_penalty(D, real_samples, fake_samples):\n",
        "      \"\"\"Calculates the gradient penalty loss for WGAN GP\"\"\"\n",
        "      #print(real_samples.size(0),fake_samples.size(0))\n",
        "      # Random weight term for interpolation between real and fake samples\n",
        "      alpha = Tensor(np.random.random((real_samples.size(0), 1, 1, 1)))\n",
        "      # Get random interpolation between real and fake samples\n",
        "      interpolates = (alpha * real_samples + ((1 - alpha) * fake_samples)).requires_grad_(True)\n",
        "      d_interpolates = D(interpolates)\n",
        "      fake = Variable(Tensor(real_samples.shape[0], 1).fill_(1.0), requires_grad=False)\n",
        "      # Get gradient w.r.t. interpolates\n",
        "      gradients = autograd.grad(\n",
        "          outputs=d_interpolates,\n",
        "          inputs=interpolates,\n",
        "          grad_outputs=fake,\n",
        "          create_graph=True,\n",
        "          retain_graph=True,\n",
        "          only_inputs=True,\n",
        "      )[0]\n",
        "      gradients = gradients.view(gradients.size(0), -1)\n",
        "      gradient_penalty = ((gradients.norm(2, dim=1) - 1) ** 2).mean()\n",
        "      return gradient_penalty\n",
        "\n",
        "  # ----------\n",
        "  #  Training\n",
        "  # ----------\n",
        "\n",
        "  batches_done = 0\n",
        "  for epoch in range(n_epochs):\n",
        "      #print(\"I made it\")\n",
        "      if epoch % 100 == 0: print(\"processing :\",(epoch),' / ',n_epochs)  \n",
        "      for i, data in enumerate(dataloader):\n",
        "          imgs, _ = data\n",
        "\n",
        "          # Configure input\n",
        "          real_imgs = Variable(imgs.type(Tensor))\n",
        "\n",
        "          # ---------------------\n",
        "          #  Train Discriminator\n",
        "          # ---------------------\n",
        "\n",
        "          optimizer_D.zero_grad()\n",
        "\n",
        "          # Sample noise as generator input\n",
        "          z = Variable(Tensor(np.random.normal(0, 1, (imgs.shape[0], latent_dim))))\n",
        "\n",
        "          # Generate a batch of images\n",
        "          fake_imgs = generator(z)\n",
        "\n",
        "          # Real images\n",
        "          real_validity = discriminator(real_imgs)\n",
        "          # Fake images\n",
        "          fake_validity = discriminator(fake_imgs)\n",
        "          #print(\"real: \", real_imgs.data.shape)\n",
        "          #print(\"fake: \", fake_imgs.data.shape)\n",
        "          # Gradient penalty\n",
        "          gradient_penalty = compute_gradient_penalty(discriminator, real_imgs.data, fake_imgs.data)\n",
        "          # Adversarial loss\n",
        "          d_loss = -torch.mean(real_validity) + torch.mean(fake_validity) + lambda_gp * gradient_penalty\n",
        "\n",
        "          d_loss.backward()\n",
        "          optimizer_D.step()\n",
        "\n",
        "          optimizer_G.zero_grad()\n",
        "\n",
        "          fake_imgs = generator(z)\n",
        "          # Loss measures generator's ability to fool the discriminator\n",
        "          # Train on fake images`\n",
        "          fake_validity = discriminator(fake_imgs)\n",
        "          g_loss = -torch.mean(fake_validity)\n",
        "\n",
        "          g_loss.backward()\n",
        "          optimizer_G.step()\n",
        "\n",
        "          if batches_done % sample_interval == 0:\n",
        "              \n",
        "              save_image(fake_imgs.data[:25], \"images/%d.png\" % batches_done, nrow=5, normalize=True)\n",
        "#           if (epoch % 100 == 0) and (batches_done % sample_interval == 0):\n",
        "#               print(\n",
        "#                   \"[Epoch %d/%d] [Batch %d/%d] [D loss: %f] [G loss: %f]\"\n",
        "#                   % (epoch, n_epochs, i, len(dataloader), d_loss.item(), g_loss.item())\n",
        "#               )\n",
        "\n",
        "          batches_done += 1\n",
        "      if epoch % 200 ==0:\n",
        "            \n",
        "            torch.save(generator.state_dict(), os.path.join(out, 'G_epoch{}.pt'.format(epoch)))\n",
        "            torch.save(discriminator.state_dict(), os.path.join(out, 'D_epoch{}.pt'.format(epoch)))\n",
        "            \n",
        "            \n",
        "    \n",
        "     "
      ],
      "execution_count": 18,
      "outputs": []
    },
    {
      "cell_type": "code",
      "metadata": {
        "id": "Nn6ay5Tsa2sJ"
      },
      "source": [
        "from tqdm import tqdm"
      ],
      "execution_count": 19,
      "outputs": []
    },
    {
      "cell_type": "code",
      "metadata": {
        "id": "8fCNqWZa01Fy",
        "scrolled": true
      },
      "source": [
        "n_epochs = 10001\n",
        "batch_size = 64\n",
        "lr = 0.0002\n",
        "b1 = 0.5\n",
        "b2 = 0.999\n",
        "n_cpu = 8\n",
        "latent_dim = 128\n",
        "img_size = 64\n",
        "channels = 3\n",
        "sample_interval = 100\n",
        "abnormal_class = 0\n",
        "device = 'cuda' \n",
        "out = '../anoGAN-ckpts-XR_HAND1/' # Output_file for storing model update this path\n",
        "if not os.path.exists(out): os.mkdir(out)\n",
        "    \n"
      ],
      "execution_count": 20,
      "outputs": []
    },
    {
      "cell_type": "code",
      "metadata": {
        "id": "QlOdBz93a2sJ",
        "colab": {
          "base_uri": "https://localhost:8080/"
        },
        "outputId": "bf243dcf-911e-4451-b8e7-37c4aa1e9a47"
      },
      "source": [
        "train(n_epochs, batch_size, lr, b1, b2, n_cpu, latent_dim, img_size, channels, sample_interval, abnormal_class, device, out)"
      ],
      "execution_count": null,
      "outputs": [
        {
          "output_type": "stream",
          "text": [
            "processing : 0  /  10001\n",
            "processing : 100  /  10001\n",
            "processing : 200  /  10001\n",
            "processing : 300  /  10001\n",
            "processing : 400  /  10001\n",
            "processing : 500  /  10001\n",
            "processing : 600  /  10001\n",
            "processing : 700  /  10001\n",
            "processing : 800  /  10001\n",
            "processing : 900  /  10001\n",
            "processing : 1000  /  10001\n",
            "processing : 1100  /  10001\n",
            "processing : 1200  /  10001\n",
            "processing : 1300  /  10001\n",
            "processing : 1400  /  10001\n",
            "processing : 1500  /  10001\n"
          ],
          "name": "stdout"
        }
      ]
    },
    {
      "cell_type": "markdown",
      "metadata": {
        "id": "b8m05Hbia2sJ"
      },
      "source": [
        "# Inference"
      ]
    },
    {
      "cell_type": "code",
      "metadata": {
        "id": "Rq_Uc48la2sI"
      },
      "source": [
        "# change the path here to shared drive\n",
        "\n",
        "mura_valid_df = customDf('../datasets/MURA-v1.1/valid_image_paths.csv', 'XR_HAND', None)    #scs\n",
        "valid_dataset = MURA_dataset(mura_valid_df, '../datasets/', transforms)"
      ],
      "execution_count": null,
      "outputs": []
    },
    {
      "cell_type": "code",
      "metadata": {
        "id": "JG6qQi72a2sI"
      },
      "source": [
        "valid_dataloader = torch.utils.data.DataLoader(dataset=valid_dataset,batch_size=64,shuffle=True,num_workers=4,drop_last=False)"
      ],
      "execution_count": null,
      "outputs": []
    },
    {
      "cell_type": "code",
      "metadata": {
        "id": "PFGlHe1sa2sJ"
      },
      "source": [
        "from PIL import Image\n",
        "import numpy as np"
      ],
      "execution_count": null,
      "outputs": []
    },
    {
      "cell_type": "code",
      "metadata": {
        "id": "2jtH_qCca2sJ"
      },
      "source": [
        "\n",
        "def tensor2im(input_image, imtype=np.uint8):\n",
        "    \"\"\"\"Converts a Tensor array into a numpy image array.\n",
        "\n",
        "    Parameters:\n",
        "        input_image (tensor) --  the input image tensor array\n",
        "        imtype (type)        --  the desired type of the converted numpy array\n",
        "    \"\"\"\n",
        "    if not isinstance(input_image, np.ndarray):\n",
        "        if isinstance(input_image, torch.Tensor):  # get the data from a variable\n",
        "            image_tensor = input_image.data\n",
        "        else:\n",
        "            return input_image\n",
        "        image_numpy = image_tensor[0].cpu().float().numpy()  # convert it into a numpy array\n",
        "        if image_numpy.shape[0] == 1:  # grayscale to RGB\n",
        "            image_numpy = np.tile(image_numpy, (3, 1, 1))\n",
        "        image_numpy = (np.transpose(image_numpy, (1, 2, 0)) + 1) / 2.0 * 255.0  # post-processing: tranpose and scaling\n",
        "    else:  # if it is a numpy array, do nothing\n",
        "        image_numpy = input_image\n",
        "    return image_numpy.astype(imtype)"
      ],
      "execution_count": null,
      "outputs": []
    },
    {
      "cell_type": "markdown",
      "metadata": {
        "id": "7Pb2lEOsbRVH"
      },
      "source": [
        ""
      ]
    },
    {
      "cell_type": "code",
      "metadata": {
        "id": "fPphrA_Fa2sJ"
      },
      "source": [
        "\n",
        "\n",
        "n_epochs = 5001\n",
        "batch_size = 64\n",
        "lr = 0.0002\n",
        "b1 = 0.5\n",
        "b2 = 0.999\n",
        "n_cpu = 8\n",
        "latent_dim = 128\n",
        "img_size = 64\n",
        "channels = 3\n",
        "sample_interval = 100\n",
        "abnormal_class = 0\n",
        "device = 'cuda' \n",
        "out = '../anoGAN-ckpts-XR_HAND/'  # change scs for each category\n",
        "\n",
        "img_shape = (channels, img_size, img_size)\n",
        "max_auc = 0\n",
        "\n",
        "\n",
        "generator = Generator(dim = 64, zdim=latent_dim, nc=channels)\n",
        "discriminator = Discriminator(dim = 64, zdim=latent_dim, nc=channels,out_feat=True)\n",
        "encoder = Encoder(dim = 64, zdim=latent_dim, nc=channels)\n",
        "\n",
        "generator.load_state_dict(torch.load(out+'G_epoch5000.pt'))\n",
        "discriminator.load_state_dict(torch.load(out+'D_epoch5000.pt'))\n",
        "generator.to(device)\n",
        "encoder.to(device)\n",
        "discriminator.to(device)\n",
        "with torch.no_grad():\n",
        "    labels = torch.zeros(size=(len(valid_dataloader.dataset),),\n",
        "                                        dtype=torch.long, device=device)\n",
        "\n",
        "    scores = torch.empty(\n",
        "                size=(len(valid_dataloader.dataset),),\n",
        "                dtype=torch.float32,\n",
        "                device=device)\n",
        "    for i, (imgs, lbls) in enumerate(valid_dataloader):\n",
        "            imgs = imgs.to(device)\n",
        "            lbls = lbls.to(device)\n",
        "\n",
        "            labels[i*batch_size:(i+1)*batch_size].copy_(lbls)\n",
        "            emb_query = encoder(imgs)\n",
        "            fake_imgs = generator(emb_query)\n",
        "\n",
        "            image_feats  = discriminator(imgs)\n",
        "            recon_feats = discriminator(fake_imgs)\n",
        "                \n",
        "            diff = imgs-fake_imgs\n",
        "            \n",
        "            image1_tensor= diff[0]\n",
        "           \n",
        "            im = tensor2im(imgs)\n",
        "            plt.imshow(im)\n",
        "            \n",
        "            im2 = tensor2im(fake_imgs)\n",
        "            plt.imshow(im2)\n",
        "            \n",
        "            im3 = tensor2im(diff)\n",
        "            plt.imshow(im3)\n",
        "            print(im.shape)\n",
        "            print(im3.shape)\n",
        "            #break    # comment\n",
        "            \n",
        "            image_distance = torch.mean(torch.pow(imgs-fake_imgs, 2), dim=[1,2,3])\n",
        "            feat_distance = torch.mean(torch.pow(image_feats-recon_feats, 2), dim=1)\n",
        "\n",
        "            # z_distance = mse_loss(emb_query, emb_fake)\n",
        "            scores[i*batch_size:(i+1)*batch_size].copy_(feat_distance)\n",
        "\n",
        "    labels = labels.cpu()\n",
        "    # scores = torch.mean(scores,)\n",
        "    scores = scores.cpu().squeeze()\n",
        "    print(scores.shape)\n",
        "    # True/False Positive Rates.\n",
        "    fpr, tpr, thresholds = roc_curve(labels, scores)\n",
        "    roc_auc = auc(fpr, tpr)\n",
        "    print(roc_auc)\n",
        "    max_auc = max(roc_auc, max_auc)\n",
        "    print(max_auc)\n",
        "    \n",
        "    print(len(valid_dataloader.dataset))"
      ],
      "execution_count": null,
      "outputs": []
    },
    {
      "cell_type": "code",
      "metadata": {
        "id": "D8Q7Vwqma2sJ"
      },
      "source": [
        "for i in range(288):\n",
        "    print(labels[i] , scores[i])\n",
        "    "
      ],
      "execution_count": null,
      "outputs": []
    },
    {
      "cell_type": "code",
      "metadata": {
        "id": "YBlDbNMVa2sJ"
      },
      "source": [
        ""
      ],
      "execution_count": null,
      "outputs": []
    }
  ]
}